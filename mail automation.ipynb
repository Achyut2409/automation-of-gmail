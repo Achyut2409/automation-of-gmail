{
 "cells": [
  {
   "cell_type": "code",
   "execution_count": 10,
   "metadata": {},
   "outputs": [],
   "source": [
    "import pyautogui\n",
    "import time\n",
    "import webbrowser\n",
    "\n",
    "url=\"https://mail.google.com/mail/u/2/?tab=wm&ogbl#inbox\"\n",
    "webbrowser.open(url)\n",
    "time.sleep(8)\n",
    "global_search=699,107\n",
    "pyautogui.click(global_search)\n",
    "pyautogui.write(' bank of india star rewards ', interval=0.25)\n",
    "time.sleep(4)\n",
    "pyautogui.press('enter')\n",
    "attachements=435,155\n",
    "pyautogui.click(attachements)\n",
    "time.sleep(4)\n",
    "select_mails=303,213\n",
    "pyautogui.click(select_mails)\n",
    "\n",
    "all_mails=311,230\n",
    "pyautogui.click(all_mails)\n",
    "time.sleep(5)\n",
    "select=723,205\n",
    "pyautogui.click(select)\n",
    "time.sleep(5)\n",
    "forwrdatch=810,474\n",
    "pyautogui.click(forwrdatch)\n",
    "time.sleep(8)\n",
    "addres=902,293\n",
    "pyautogui.click(addres)\n",
    "pyautogui.write('a',interval=0.25)\n",
    "pyautogui.press('enter')\n",
    "send=838,687\n",
    "time.sleep(8)\n",
    "pyautogui.click(send)\n",
    "\n",
    "\n"
   ]
  },
  {
   "cell_type": "markdown",
   "metadata": {},
   "source": []
  },
  {
   "cell_type": "code",
   "execution_count": null,
   "metadata": {},
   "outputs": [],
   "source": []
  },
  {
   "cell_type": "code",
   "execution_count": null,
   "metadata": {
    "collapsed": true
   },
   "outputs": [],
   "source": []
  }
 ],
 "metadata": {
  "kernelspec": {
   "display_name": "Python 3",
   "language": "python",
   "name": "python3"
  },
  "language_info": {
   "codemirror_mode": {
    "name": "ipython",
    "version": 3
   },
   "file_extension": ".py",
   "mimetype": "text/x-python",
   "name": "python",
   "nbconvert_exporter": "python",
   "pygments_lexer": "ipython3",
   "version": "3.8.3"
  }
 },
 "nbformat": 4,
 "nbformat_minor": 4
}
